{
 "cells": [
  {
   "cell_type": "markdown",
   "metadata": {},
   "source": [
    "# Pandas"
   ]
  },
  {
   "cell_type": "code",
   "execution_count": 14,
   "metadata": {},
   "outputs": [],
   "source": [
    "import pandas as pd"
   ]
  },
  {
   "cell_type": "markdown",
   "metadata": {},
   "source": [
    "## Series Data Structure"
   ]
  },
  {
   "cell_type": "code",
   "execution_count": 15,
   "metadata": {},
   "outputs": [
    {
     "data": {
      "text/plain": [
       "0     Yash\n",
       "1    Aryan\n",
       "2    Rohan\n",
       "dtype: object"
      ]
     },
     "execution_count": 15,
     "metadata": {},
     "output_type": "execute_result"
    }
   ],
   "source": [
    "# think of a series as a cross between a list and a dictionary (indexed data structure)\n",
    "# one of the easiest ways to create a string is to use an array like object\n",
    "students = ['Yash', 'Aryan', 'Rohan']\n",
    "pd.Series(students)\n",
    "# the values are automatically indexed using integers and the datatype is automatically identified"
   ]
  },
  {
   "cell_type": "code",
   "execution_count": 16,
   "metadata": {},
   "outputs": [
    {
     "data": {
      "text/plain": [
       "0    1\n",
       "1    2\n",
       "2    3\n",
       "dtype: int64"
      ]
     },
     "execution_count": 16,
     "metadata": {},
     "output_type": "execute_result"
    }
   ],
   "source": [
    "# underneath, pandas stores series values in a typed array using the Numpy library\n",
    "# eg\n",
    "numbers = [1, 2, 3]\n",
    "pd.Series(numbers) # dtype = int64"
   ]
  },
  {
   "cell_type": "code",
   "execution_count": 17,
   "metadata": {},
   "outputs": [
    {
     "name": "stdout",
     "output_type": "stream",
     "text": [
      "0     Yash\n",
      "1    Aryan\n",
      "2     None\n",
      "dtype: object\n",
      "0    1.0\n",
      "1    2.0\n",
      "2    NaN\n",
      "dtype: float64\n"
     ]
    }
   ],
   "source": [
    "# none type data - strings\n",
    "students = ['Yash', 'Aryan', None]\n",
    "print(pd.Series(students))\n",
    "\n",
    "# none type data - numbers\n",
    "numbers = [1, 2, None]\n",
    "print(pd.Series(numbers)) # NaN - Not a Number\n",
    "# dtype of this series is set to float64 because NaN is considered a floating point\n",
    "\n",
    "# Nan is not equivalent to None, it is a numeric value"
   ]
  },
  {
   "cell_type": "code",
   "execution_count": 18,
   "metadata": {},
   "outputs": [
    {
     "name": "stdout",
     "output_type": "stream",
     "text": [
      "Yash            Physics\n",
      "Hrisheka      Chemistry\n",
      "Rohan       Mathematics\n",
      "dtype: object\n",
      "Index(['Yash', 'Hrisheka', 'Rohan'], dtype='object')\n"
     ]
    }
   ],
   "source": [
    "# creating series using dictionaries\n",
    "subjects = {'Yash' : 'Physics',\n",
    "            'Hrisheka' : 'Chemistry',\n",
    "            'Rohan' : 'Mathematics'}\n",
    "\n",
    "s = pd.Series(subjects)\n",
    "print(s)\n",
    "\n",
    "# retrieve a list of the key values\n",
    "print(s.index)"
   ]
  },
  {
   "cell_type": "code",
   "execution_count": 19,
   "metadata": {},
   "outputs": [
    {
     "name": "stdout",
     "output_type": "stream",
     "text": [
      "0     (1, apple)\n",
      "1    (2, banana)\n",
      "2    (3, cherry)\n",
      "dtype: object\n"
     ]
    }
   ],
   "source": [
    "# arbitrary data type\n",
    "lst = [(1, 'apple'), (2, 'banana'), (3, 'cherry')]\n",
    "print(pd.Series(lst)) \n",
    "# this dtype is also set to object"
   ]
  },
  {
   "cell_type": "code",
   "execution_count": 20,
   "metadata": {},
   "outputs": [
    {
     "name": "stdout",
     "output_type": "stream",
     "text": [
      "Alice     Physics\n",
      "Jack     Chemisty\n",
      "Molly        Math\n",
      "dtype: object\n"
     ]
    }
   ],
   "source": [
    "# we can also set the index of a list explicitly\n",
    "x = pd.Series(['Physics', 'Chemisty', 'Math'], index = ['Alice', 'Jack', 'Molly'])\n",
    "print(x)"
   ]
  },
  {
   "cell_type": "code",
   "execution_count": 21,
   "metadata": {},
   "outputs": [
    {
     "name": "stdout",
     "output_type": "stream",
     "text": [
      "Yash          Physics\n",
      "Hrisheka    Chemistry\n",
      "Rajesh            NaN\n",
      "dtype: object\n"
     ]
    }
   ],
   "source": [
    "# eg - list of values in the index are not in line with keys in dictionary\n",
    "subjects = {'Yash' : 'Physics',\n",
    "            'Hrisheka' : 'Chemistry',\n",
    "            'Rohan' : 'Mathematics'}\n",
    "\n",
    "s = pd.Series(subjects, index = ['Yash', 'Hrisheka', 'Rajesh'])\n",
    "print(s)\n",
    "# pandas will override the automatic creation, and provide values for only the specified indices"
   ]
  },
  {
   "cell_type": "markdown",
   "metadata": {},
   "source": [
    "we have seen how series are created from lists and dictionaries. we have also seen how indices work and how data types works."
   ]
  },
  {
   "cell_type": "markdown",
   "metadata": {},
   "source": [
    "## Querying a Series"
   ]
  },
  {
   "cell_type": "code",
   "execution_count": 22,
   "metadata": {},
   "outputs": [
    {
     "name": "stdout",
     "output_type": "stream",
     "text": [
      "Alice      Physics\n",
      "Jack     Chemistry\n",
      "Molly      English\n",
      "Sam        History\n",
      "dtype: object\n",
      "History\n",
      "English\n"
     ]
    }
   ],
   "source": [
    "classes = {'Alice' : 'Physics',\n",
    "           'Jack' : 'Chemistry',\n",
    "           'Molly' : 'English',\n",
    "           'Sam' : 'History'}\n",
    "s = pd.Series(classes)\n",
    "print(s)\n",
    "\n",
    "# retrieve data using index number\n",
    "print(s.iloc[3])\n",
    "\n",
    "#retrieve data using dictionary key\n",
    "print(s.loc['Molly'])\n",
    "\n",
    "# iloc and loc are not methods, they are attributes"
   ]
  },
  {
   "cell_type": "code",
   "execution_count": 23,
   "metadata": {},
   "outputs": [
    {
     "name": "stdout",
     "output_type": "stream",
     "text": [
      "History\n",
      "English\n"
     ]
    },
    {
     "name": "stderr",
     "output_type": "stream",
     "text": [
      "/var/folders/2b/z0sb3jmj0_74xyl8zt7pnv4h0000gn/T/ipykernel_33377/2432125189.py:2: FutureWarning: Series.__getitem__ treating keys as positions is deprecated. In a future version, integer keys will always be treated as labels (consistent with DataFrame behavior). To access a value by position, use `ser.iloc[pos]`\n",
      "  print(s[3]) # assumes s.iloc\n"
     ]
    }
   ],
   "source": [
    "# we can use the indexing operator directly on the series itself\n",
    "print(s[3]) # assumes s.iloc\n",
    "print(s['Molly']) # assumes s.loc"
   ]
  },
  {
   "cell_type": "code",
   "execution_count": 24,
   "metadata": {},
   "outputs": [
    {
     "name": "stdout",
     "output_type": "stream",
     "text": [
      "99     English\n",
      "100       Math\n",
      "101    Physics\n",
      "dtype: object\n",
      "English\n"
     ]
    }
   ],
   "source": [
    "# however, using iloc or loc are safer options, eg:\n",
    "class_code = {99 : 'English',\n",
    "              100 : 'Math',\n",
    "              101 : 'Physics'}\n",
    "\n",
    "s1 = pd.Series(class_code)\n",
    "print(s1)\n",
    "print(s1.iloc[0]) # here, the value inside [] will look for the keys, not the position, so we have to use ilo\n",
    "\n"
   ]
  },
  {
   "cell_type": "code",
   "execution_count": 25,
   "metadata": {},
   "outputs": [
    {
     "data": {
      "text/plain": [
       "'English'"
      ]
     },
     "execution_count": 25,
     "metadata": {},
     "output_type": "execute_result"
    }
   ],
   "source": [
    "s1.iloc[0]"
   ]
  },
  {
   "cell_type": "markdown",
   "metadata": {},
   "source": [
    "### Performing Operations on Series'"
   ]
  },
  {
   "cell_type": "code",
   "execution_count": 26,
   "metadata": {},
   "outputs": [
    {
     "name": "stdout",
     "output_type": "stream",
     "text": [
      "75.0\n"
     ]
    }
   ],
   "source": [
    "# we can perform operations on items in a series by iterating through all items in the series\n",
    "grades = pd.Series([90, 60, 70, 80])\n",
    "\n",
    "# find the average score\n",
    "total = 0\n",
    "for i in grades:\n",
    "    total += i \n",
    "print(total / len(grades))"
   ]
  },
  {
   "cell_type": "code",
   "execution_count": 48,
   "metadata": {},
   "outputs": [
    {
     "name": "stdout",
     "output_type": "stream",
     "text": [
      "75.0\n"
     ]
    }
   ],
   "source": [
    "# we can also do this in a faster way, using the numpy library\n",
    "import numpy as np\n",
    "print(np.sum(grades) / len(grades))"
   ]
  },
  {
   "cell_type": "code",
   "execution_count": 28,
   "metadata": {},
   "outputs": [
    {
     "name": "stdout",
     "output_type": "stream",
     "text": [
      "0    174\n",
      "1    477\n",
      "2    407\n",
      "3    186\n",
      "4    978\n",
      "dtype: int64\n",
      "10000\n"
     ]
    }
   ],
   "source": [
    "# in order to test wich method is faster\n",
    "numbers = pd.Series(np.random.randint(0, 1000, 10000)) # 10000 random integers between 0 nd 1000\n",
    "print(numbers.head()) # prints first 5 elements\n",
    "print(len(numbers))\n"
   ]
  },
  {
   "cell_type": "code",
   "execution_count": 29,
   "metadata": {},
   "outputs": [
    {
     "name": "stdout",
     "output_type": "stream",
     "text": [
      "649 μs ± 25.8 μs per loop (mean ± std. dev. of 7 runs, 100 loops each)\n"
     ]
    }
   ],
   "source": [
    "%%timeit -n 100\n",
    "# method 1\n",
    "total = 0\n",
    "for i in numbers:\n",
    "    total += i\n",
    "total / len(numbers)"
   ]
  },
  {
   "cell_type": "code",
   "execution_count": 30,
   "metadata": {},
   "outputs": [
    {
     "name": "stdout",
     "output_type": "stream",
     "text": [
      "11 μs ± 4.66 μs per loop (mean ± std. dev. of 7 runs, 100 loops each)\n"
     ]
    }
   ],
   "source": [
    "%%timeit -n 100\n",
    "# method 2\n",
    "np.sum(numbers) / len(numbers)"
   ]
  },
  {
   "cell_type": "code",
   "execution_count": 31,
   "metadata": {},
   "outputs": [
    {
     "name": "stdout",
     "output_type": "stream",
     "text": [
      "0    176\n",
      "1    479\n",
      "2    409\n",
      "3    188\n",
      "4    980\n",
      "dtype: int64\n"
     ]
    }
   ],
   "source": [
    "# we can perform arithmetic operations on pandas series\n",
    "numbers += 2\n",
    "print(numbers.head())"
   ]
  },
  {
   "cell_type": "code",
   "execution_count": 32,
   "metadata": {},
   "outputs": [
    {
     "data": {
      "text/plain": [
       "0       178\n",
       "1       481\n",
       "2       411\n",
       "3       190\n",
       "4       982\n",
       "       ... \n",
       "9995     74\n",
       "9996    551\n",
       "9997     33\n",
       "9998    515\n",
       "9999    120\n",
       "Length: 10000, dtype: int64"
      ]
     },
     "execution_count": 32,
     "metadata": {},
     "output_type": "execute_result"
    }
   ],
   "source": [
    "# we can iterate though a pandas series much like a dictionary, using iteritems()\n",
    "for label, value in numbers.items():\n",
    "    numbers[label] = value + 2\n",
    "numbers\n"
   ]
  },
  {
   "cell_type": "code",
   "execution_count": 33,
   "metadata": {},
   "outputs": [
    {
     "name": "stdout",
     "output_type": "stream",
     "text": [
      "30.1 ms ± 1.71 ms per loop (mean ± std. dev. of 7 runs, 10 loops each)\n"
     ]
    }
   ],
   "source": [
    "%%timeit -n 10\n",
    "# method 1\n",
    "srs = pd.Series(np.random.randint(1, 1000, 10000))\n",
    "for label, value in srs.items():\n",
    "    srs[label] = value + 2"
   ]
  },
  {
   "cell_type": "code",
   "execution_count": 34,
   "metadata": {},
   "outputs": [
    {
     "name": "stdout",
     "output_type": "stream",
     "text": [
      "88.7 μs ± 39.7 μs per loop (mean ± std. dev. of 7 runs, 10 loops each)\n"
     ]
    }
   ],
   "source": [
    "%%timeit -n 10\n",
    "# method 2\n",
    "srs = pd.Series(np.random.randint(1, 1000, 10000))\n",
    "srs += 2\n",
    "srs\n",
    "\n",
    "# this method is more concise and easier to read"
   ]
  },
  {
   "cell_type": "code",
   "execution_count": 37,
   "metadata": {},
   "outputs": [
    {
     "name": "stdout",
     "output_type": "stream",
     "text": [
      "0    1\n",
      "1    2\n",
      "2    3\n",
      "dtype: int64\n",
      "0    1\n",
      "1    2\n",
      "2    5\n",
      "dtype: int64\n",
      "0             1\n",
      "1             2\n",
      "2             5\n",
      "History    Yash\n",
      "dtype: object\n"
     ]
    }
   ],
   "source": [
    "# .loc attribute can be used to change data as well as create new data\n",
    "s2 = pd.Series([1, 2, 3])\n",
    "print(s2)\n",
    "s2.loc[2] = 5\n",
    "print(s2)\n",
    "s2.loc['History'] = 'Yash'\n",
    "print(s2)"
   ]
  },
  {
   "cell_type": "code",
   "execution_count": 47,
   "metadata": {},
   "outputs": [
    {
     "name": "stdout",
     "output_type": "stream",
     "text": [
      "Yash          English\n",
      "Hrisheka       French\n",
      "Rahul       Geography\n",
      "dtype: object\n",
      "Dev    Philosophy\n",
      "Dev       History\n",
      "Dev           Art\n",
      "dtype: object\n",
      "Yash           English\n",
      "Hrisheka        French\n",
      "Rahul        Geography\n",
      "Dev         Philosophy\n",
      "Dev            History\n",
      "Dev                Art\n",
      "dtype: object\n"
     ]
    },
    {
     "data": {
      "text/plain": [
       "Dev    Philosophy\n",
       "Dev       History\n",
       "Dev           Art\n",
       "dtype: object"
      ]
     },
     "execution_count": 47,
     "metadata": {},
     "output_type": "execute_result"
    }
   ],
   "source": [
    "# we can also have a case where the index values are not unique, eg:\n",
    "classes = pd.Series({'Yash' : 'English',\n",
    "                     'Hrisheka' : 'French',\n",
    "                     'Rahul' : 'Geography'})\n",
    "print(classes)\n",
    "\n",
    "# new student joins\n",
    "dev_classes = pd.Series(['Philosophy', 'History', 'Art'], index = ['Dev', 'Dev', 'Dev'])\n",
    "print(dev_classes)\n",
    "\n",
    "# we can combine the two dictionaries\n",
    "all_classes = pd.concat([classes, dev_classes])\n",
    "print(all_classes)\n",
    "\n",
    "# now we use the loc attribute on Dev\n",
    "print(all_classes.loc['Dev']) # we get a series of values as our output\n"
   ]
  }
 ],
 "metadata": {
  "kernelspec": {
   "display_name": "base",
   "language": "python",
   "name": "python3"
  },
  "language_info": {
   "codemirror_mode": {
    "name": "ipython",
    "version": 3
   },
   "file_extension": ".py",
   "mimetype": "text/x-python",
   "name": "python",
   "nbconvert_exporter": "python",
   "pygments_lexer": "ipython3",
   "version": "3.12.4"
  }
 },
 "nbformat": 4,
 "nbformat_minor": 2
}
